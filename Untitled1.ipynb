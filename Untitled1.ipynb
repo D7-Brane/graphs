{
 "cells": [
  {
   "cell_type": "code",
   "execution_count": 1,
   "id": "88af5283",
   "metadata": {},
   "outputs": [],
   "source": [
    "import graph_tools as gt"
   ]
  },
  {
   "cell_type": "code",
   "execution_count": 2,
   "id": "2bca9d13",
   "metadata": {},
   "outputs": [
    {
     "ename": "AttributeError",
     "evalue": "module 'graph_tools' has no attribute 'collection'",
     "output_type": "error",
     "traceback": [
      "\u001b[0;31m---------------------------------------------------------------------------\u001b[0m",
      "\u001b[0;31mAttributeError\u001b[0m                            Traceback (most recent call last)",
      "\u001b[0;32m<ipython-input-2-981075ca1477>\u001b[0m in \u001b[0;36m<module>\u001b[0;34m\u001b[0m\n\u001b[0;32m----> 1\u001b[0;31m \u001b[0mg\u001b[0m \u001b[0;34m=\u001b[0m \u001b[0mgt\u001b[0m\u001b[0;34m.\u001b[0m\u001b[0mcollection\u001b[0m\u001b[0;34m.\u001b[0m\u001b[0mdata\u001b[0m\u001b[0;34m[\u001b[0m\u001b[0;34m\"hep-th\"\u001b[0m\u001b[0;34m]\u001b[0m\u001b[0;34m\u001b[0m\u001b[0;34m\u001b[0m\u001b[0m\n\u001b[0m",
      "\u001b[0;31mAttributeError\u001b[0m: module 'graph_tools' has no attribute 'collection'"
     ]
    }
   ],
   "source": [
    "g = gt.collection.data[\"hep-th\"]"
   ]
  },
  {
   "cell_type": "code",
   "execution_count": null,
   "id": "1b04c6b8",
   "metadata": {},
   "outputs": [],
   "source": [
    "gt."
   ]
  }
 ],
 "metadata": {
  "kernelspec": {
   "display_name": "fintelligence",
   "language": "python",
   "name": "fintelligence"
  },
  "language_info": {
   "codemirror_mode": {
    "name": "ipython",
    "version": 3
   },
   "file_extension": ".py",
   "mimetype": "text/x-python",
   "name": "python",
   "nbconvert_exporter": "python",
   "pygments_lexer": "ipython3",
   "version": "3.8.5"
  }
 },
 "nbformat": 4,
 "nbformat_minor": 5
}
